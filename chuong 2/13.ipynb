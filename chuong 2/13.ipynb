{
 "cells": [
  {
   "cell_type": "code",
   "execution_count": 4,
   "metadata": {},
   "outputs": [
    {
     "name": "stdout",
     "output_type": "stream",
     "text": [
      "DANH SÁCH CÁC BÀI POST:\n",
      "   - id labore ex et quam laborum\n",
      "   - quo vero reiciendis velit similique earum\n",
      "   - odio adipisci rerum aut animi\n",
      "   - alias odio sit\n",
      "   - vero eaque aliquid doloribus et culpa\n",
      "DANH SÁCH THÔNG TIN CỦA MỖI BÀI POST:\n",
      "postId: 1\n",
      "ID: 1\n",
      "Tên: id labore ex et quam laborum\n",
      "Email: Eliseo@gardner.biz\n",
      "Nội dung: laudantium enim quasi est quidem magnam voluptate ipsam eos\n",
      "tempora quo necessitatibus\n",
      "dolor quam autem quasi\n",
      "reiciendis et nam sapiente accusantium\n",
      "==================================\n",
      "postId: 1\n",
      "ID: 2\n",
      "Tên: quo vero reiciendis velit similique earum\n",
      "Email: Jayne_Kuhic@sydney.com\n",
      "Nội dung: est natus enim nihil est dolore omnis voluptatem numquam\n",
      "et omnis occaecati quod ullam at\n",
      "voluptatem error expedita pariatur\n",
      "nihil sint nostrum voluptatem reiciendis et\n",
      "==================================\n",
      "postId: 1\n",
      "ID: 3\n",
      "Tên: odio adipisci rerum aut animi\n",
      "Email: Nikita@garfield.biz\n",
      "Nội dung: quia molestiae reprehenderit quasi aspernatur\n",
      "aut expedita occaecati aliquam eveniet laudantium\n",
      "omnis quibusdam delectus saepe quia accusamus maiores nam est\n",
      "cum et ducimus et vero voluptates excepturi deleniti ratione\n",
      "==================================\n"
     ]
    }
   ],
   "source": [
    "import http.client\n",
    "import json\n",
    "\n",
    "def fetch_comments(post_id):\n",
    "    conn = http.client.HTTPSConnection(\"jsonplaceholder.typicode.com\")\n",
    "    conn.request(\"GET\", f\"/comments?postId={post_id}\")\n",
    "\n",
    "    response = conn.getresponse()\n",
    "    \n",
    "    if response.status == 200:\n",
    "        data = response.read()\n",
    "        comments = json.loads(data)\n",
    "        return comments\n",
    "    else:\n",
    "        print(\"Yêu cầu không thành công. Mã trạng thái:\", response.status)\n",
    "        return []\n",
    "\n",
    "def display_comments(comments):\n",
    "    print('DANH SÁCH CÁC BÀI POST:')\n",
    "    for comment in comments:\n",
    "        print(\"   -\", comment['name'])\n",
    "    \n",
    "    print('DANH SÁCH THÔNG TIN CỦA MỖI BÀI POST:')\n",
    "    for comment in comments:\n",
    "        print(\"postId:\", comment['postId'])\n",
    "        print(\"ID:\", comment['id'])\n",
    "        print(\"Tên:\", comment['name'])\n",
    "        print(\"Email:\", comment['email'])\n",
    "        print(\"Nội dung:\", comment['body'])\n",
    "        print(\"==================================\")\n",
    "        \n",
    "        if comment['id'] == 3:\n",
    "            break\n",
    "\n",
    "post_id = 1  # Thay đổi postId nếu cần\n",
    "comments = fetch_comments(post_id)\n",
    "display_comments(comments)\n"
   ]
  }
 ],
 "metadata": {
  "kernelspec": {
   "display_name": "Python 3",
   "language": "python",
   "name": "python3"
  },
  "language_info": {
   "codemirror_mode": {
    "name": "ipython",
    "version": 3
   },
   "file_extension": ".py",
   "mimetype": "text/x-python",
   "name": "python",
   "nbconvert_exporter": "python",
   "pygments_lexer": "ipython3",
   "version": "3.9.0"
  }
 },
 "nbformat": 4,
 "nbformat_minor": 2
}
